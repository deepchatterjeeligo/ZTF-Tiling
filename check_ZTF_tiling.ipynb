{
 "cells": [
  {
   "cell_type": "code",
   "execution_count": 1,
   "metadata": {},
   "outputs": [
    {
     "ename": "TabError",
     "evalue": "inconsistent use of tabs and spaces in indentation (rankedTilesGenerator_Generic.py, line 332)",
     "output_type": "error",
     "traceback": [
      "Traceback \u001b[0;36m(most recent call last)\u001b[0m:\n",
      "  File \u001b[1;32m\"/home/deep/virtualenvs/ZTF_tiling_env/lib/python3.5/site-packages/IPython/core/interactiveshell.py\"\u001b[0m, line \u001b[1;32m2910\u001b[0m, in \u001b[1;35mrun_code\u001b[0m\n    exec(code_obj, self.user_global_ns, self.user_ns)\n",
      "\u001b[0;36m  File \u001b[0;32m\"<ipython-input-1-d65283fe6c27>\"\u001b[0;36m, line \u001b[0;32m5\u001b[0;36m, in \u001b[0;35m<module>\u001b[0;36m\u001b[0m\n\u001b[0;31m    from rankedTilesGenerator_Generic import RankedTileGenerator\u001b[0m\n",
      "\u001b[0;36m  File \u001b[0;32m\"/home/deep/github/ZTF-tiling_forked/rankedTilesGenerator_Generic.py\"\u001b[0;36m, line \u001b[0;32m332\u001b[0m\n\u001b[0;31m    self.tileData.to_excel(os.path.join(self.rankedTilesDir, ranked_tiles_filename))\u001b[0m\n\u001b[0m                                                                                    ^\u001b[0m\n\u001b[0;31mTabError\u001b[0m\u001b[0;31m:\u001b[0m inconsistent use of tabs and spaces in indentation\n"
     ]
    }
   ],
   "source": [
    "import numpy as np\n",
    "import pylab as plt\n",
    "import pandas as pd\n",
    "\n",
    "from rankedTilesGenerator_Generic import RankedTileGenerator"
   ]
  },
  {
   "cell_type": "code",
   "execution_count": null,
   "metadata": {},
   "outputs": [],
   "source": [
    "skymap = np.load('skymap.dat.npy')\n",
    "args = {'tileFile':'./ZTF_tiles_indexed.dat', 'catalog':None, 'rankedTilesDir':'./temp'}"
   ]
  },
  {
   "cell_type": "code",
   "execution_count": null,
   "metadata": {},
   "outputs": [],
   "source": [
    "tileObj = RankedTileGenerator(configDict=args, skymap=skymap)"
   ]
  },
  {
   "cell_type": "code",
   "execution_count": null,
   "metadata": {},
   "outputs": [],
   "source": [
    "tileObj.getRankedTiles()"
   ]
  },
  {
   "cell_type": "code",
   "execution_count": null,
   "metadata": {},
   "outputs": [],
   "source": [
    "data = tileObj.tileData\n",
    "assoc_dict = tileObj.tile_pixel_assoc"
   ]
  },
  {
   "cell_type": "code",
   "execution_count": null,
   "metadata": {},
   "outputs": [],
   "source": [
    "x = data.iloc[1]\n",
    "ra_tile, dec_tile, pval_tile = assoc_dict[str(x['ID'])]"
   ]
  },
  {
   "cell_type": "code",
   "execution_count": null,
   "metadata": {},
   "outputs": [],
   "source": [
    "[ra, dec, pval] = skymap"
   ]
  },
  {
   "cell_type": "code",
   "execution_count": null,
   "metadata": {},
   "outputs": [],
   "source": [
    "def in1d_with_tolerance_v2(A,B,tol=1e-8):\n",
    "    S = round(1/tol)\n",
    "    return np.in1d(np.around(A*S).astype(int),np.around(B*S).astype(int))"
   ]
  },
  {
   "cell_type": "code",
   "execution_count": null,
   "metadata": {},
   "outputs": [],
   "source": [
    "closest_ras = ra[in1d_with_tolerance_v2(ra, ra_tile)]\n",
    "plt.hist(closest_ras, bins = 1000, alpha=0.3, linestyle='--')\n",
    "plt.show()\n",
    "plt.figure()\n",
    "plt.hist(ra_tile, bins=1000, alpha=1.0, linestyle='--', color = 'k')\n",
    "plt.show()"
   ]
  },
  {
   "cell_type": "code",
   "execution_count": null,
   "metadata": {},
   "outputs": [],
   "source": [
    "closest_decs = dec[in1d_with_tolerance_v2(dec, dec_tile)]\n",
    "plt.hist(closest_decs, bins = 500, alpha=0.3, linestyle='--')\n",
    "plt.show()\n",
    "plt.figure()\n",
    "plt.hist(dec_tile, bins=500, alpha=1.0, linestyle='--', color = 'k')\n",
    "plt.show()"
   ]
  },
  {
   "cell_type": "code",
   "execution_count": null,
   "metadata": {},
   "outputs": [],
   "source": [
    "np.sum(np.isin(pval, pval_tile))"
   ]
  },
  {
   "cell_type": "code",
   "execution_count": null,
   "metadata": {},
   "outputs": [],
   "source": [
    "net_mask = in1d_with_tolerance_v2(dec, dec_tile) * in1d_with_tolerance_v2(ra, ra_tile)\n",
    "# Comparison of the\n",
    "print(np.sum(net_mask), len(ra_tile))\n",
    "# the probability contained in the net mask\n",
    "print(np.sum(pval[net_mask]))\n",
    "# the net probability in the tile\n",
    "print(np.sum(pval_tile))\n",
    "### There is > 1% loss, will be lower less dense skymaps"
   ]
  },
  {
   "cell_type": "code",
   "execution_count": null,
   "metadata": {},
   "outputs": [],
   "source": [
    "np.sort(np.abs(np.ediff1d(pval)))"
   ]
  },
  {
   "cell_type": "code",
   "execution_count": null,
   "metadata": {},
   "outputs": [],
   "source": [
    "import utils"
   ]
  },
  {
   "cell_type": "code",
   "execution_count": null,
   "metadata": {},
   "outputs": [],
   "source": [
    "tile_content = assoc_dict[str(x['ID'])]\n",
    "new_skymap, sanity_flag = utils.removeTileFromSkymap(skymap=skymap, tile_content=tile_content, return_flag=True)"
   ]
  }
 ],
 "metadata": {
  "kernelspec": {
   "display_name": "Python 3",
   "language": "python",
   "name": "python3"
  },
  "language_info": {
   "codemirror_mode": {
    "name": "ipython",
    "version": 3
   },
   "file_extension": ".py",
   "mimetype": "text/x-python",
   "name": "python",
   "nbconvert_exporter": "python",
   "pygments_lexer": "ipython3",
   "version": "3.5.3"
  }
 },
 "nbformat": 4,
 "nbformat_minor": 2
}
