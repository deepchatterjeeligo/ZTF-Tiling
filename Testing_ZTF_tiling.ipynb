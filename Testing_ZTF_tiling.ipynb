{
 "cells": [
  {
   "cell_type": "code",
   "execution_count": 1,
   "metadata": {},
   "outputs": [],
   "source": [
    "import numpy as np\n",
    "import pylab as pl\n",
    "import pandas as pd\n",
    "\n",
    "import ztf_tiling"
   ]
  },
  {
   "cell_type": "code",
   "execution_count": 2,
   "metadata": {},
   "outputs": [],
   "source": [
    "skymapFile = '/Users/ghosh4/Downloads/2016_fits/288830/bayestar.fits.gz'\n",
    "tileObj = ztf_tiling.RankedTileGenerator(skymapFile)"
   ]
  },
  {
   "cell_type": "code",
   "execution_count": 3,
   "metadata": {},
   "outputs": [],
   "source": [
    "df = tileObj.createTilePriorityList(T_dur=1*3600, T_int_up=1200, T_int_low=600)"
   ]
  },
  {
   "cell_type": "code",
   "execution_count": 4,
   "metadata": {},
   "outputs": [
    {
     "data": {
      "text/html": [
       "<div>\n",
       "<style scoped>\n",
       "    .dataframe tbody tr th:only-of-type {\n",
       "        vertical-align: middle;\n",
       "    }\n",
       "\n",
       "    .dataframe tbody tr th {\n",
       "        vertical-align: top;\n",
       "    }\n",
       "\n",
       "    .dataframe thead th {\n",
       "        text-align: right;\n",
       "    }\n",
       "</style>\n",
       "<table border=\"1\" class=\"dataframe\">\n",
       "  <thead>\n",
       "    <tr style=\"text-align: right;\">\n",
       "      <th></th>\n",
       "      <th>program_id</th>\n",
       "      <th>field_id</th>\n",
       "      <th>filter_id</th>\n",
       "      <th>ra</th>\n",
       "      <th>dec</th>\n",
       "      <th>exposure_time</th>\n",
       "      <th>subprogram_name</th>\n",
       "    </tr>\n",
       "  </thead>\n",
       "  <tbody>\n",
       "    <tr>\n",
       "      <th>0</th>\n",
       "      <td>2</td>\n",
       "      <td>311</td>\n",
       "      <td>1</td>\n",
       "      <td>67.4</td>\n",
       "      <td>-16.70769</td>\n",
       "      <td>1200.0</td>\n",
       "      <td>TOO_EMGW</td>\n",
       "    </tr>\n",
       "    <tr>\n",
       "      <th>1</th>\n",
       "      <td>2</td>\n",
       "      <td>361</td>\n",
       "      <td>1</td>\n",
       "      <td>74.6</td>\n",
       "      <td>-16.70769</td>\n",
       "      <td>868.0</td>\n",
       "      <td>TOO_EMGW</td>\n",
       "    </tr>\n",
       "    <tr>\n",
       "      <th>2</th>\n",
       "      <td>2</td>\n",
       "      <td>360</td>\n",
       "      <td>1</td>\n",
       "      <td>59.0</td>\n",
       "      <td>-9.78462</td>\n",
       "      <td>600.0</td>\n",
       "      <td>TOO_EMGW</td>\n",
       "    </tr>\n",
       "    <tr>\n",
       "      <th>3</th>\n",
       "      <td>2</td>\n",
       "      <td>312</td>\n",
       "      <td>1</td>\n",
       "      <td>66.05882</td>\n",
       "      <td>-9.78462</td>\n",
       "      <td>600.0</td>\n",
       "      <td>TOO_EMGW</td>\n",
       "    </tr>\n",
       "    <tr>\n",
       "      <th>4</th>\n",
       "      <td>2</td>\n",
       "      <td>411</td>\n",
       "      <td>1</td>\n",
       "      <td>59.0</td>\n",
       "      <td>-2.86154</td>\n",
       "      <td>600.0</td>\n",
       "      <td>TOO_EMGW</td>\n",
       "    </tr>\n",
       "  </tbody>\n",
       "</table>\n",
       "</div>"
      ],
      "text/plain": [
       "  program_id field_id filter_id        ra        dec exposure_time  \\\n",
       "0          2      311         1      67.4  -16.70769        1200.0   \n",
       "1          2      361         1      74.6  -16.70769         868.0   \n",
       "2          2      360         1      59.0   -9.78462         600.0   \n",
       "3          2      312         1  66.05882   -9.78462         600.0   \n",
       "4          2      411         1      59.0   -2.86154         600.0   \n",
       "\n",
       "  subprogram_name  \n",
       "0        TOO_EMGW  \n",
       "1        TOO_EMGW  \n",
       "2        TOO_EMGW  \n",
       "3        TOO_EMGW  \n",
       "4        TOO_EMGW  "
      ]
     },
     "execution_count": 4,
     "metadata": {},
     "output_type": "execute_result"
    }
   ],
   "source": [
    "df"
   ]
  },
  {
   "cell_type": "code",
   "execution_count": 9,
   "metadata": {},
   "outputs": [],
   "source": [
    "df.to_csv('example.csv', index = False)\n"
   ]
  },
  {
   "cell_type": "code",
   "execution_count": null,
   "metadata": {},
   "outputs": [],
   "source": []
  },
  {
   "cell_type": "code",
   "execution_count": 10,
   "metadata": {},
   "outputs": [],
   "source": [
    "df_read = pd.read_csv('example.csv')"
   ]
  },
  {
   "cell_type": "code",
   "execution_count": 11,
   "metadata": {},
   "outputs": [
    {
     "data": {
      "text/html": [
       "<div>\n",
       "<style scoped>\n",
       "    .dataframe tbody tr th:only-of-type {\n",
       "        vertical-align: middle;\n",
       "    }\n",
       "\n",
       "    .dataframe tbody tr th {\n",
       "        vertical-align: top;\n",
       "    }\n",
       "\n",
       "    .dataframe thead th {\n",
       "        text-align: right;\n",
       "    }\n",
       "</style>\n",
       "<table border=\"1\" class=\"dataframe\">\n",
       "  <thead>\n",
       "    <tr style=\"text-align: right;\">\n",
       "      <th></th>\n",
       "      <th>program_id</th>\n",
       "      <th>field_id</th>\n",
       "      <th>filter_id</th>\n",
       "      <th>ra</th>\n",
       "      <th>dec</th>\n",
       "      <th>exposure_time</th>\n",
       "      <th>subprogram_name</th>\n",
       "    </tr>\n",
       "  </thead>\n",
       "  <tbody>\n",
       "    <tr>\n",
       "      <th>0</th>\n",
       "      <td>2</td>\n",
       "      <td>311</td>\n",
       "      <td>1</td>\n",
       "      <td>67.4</td>\n",
       "      <td>-16.70769</td>\n",
       "      <td>1200.0</td>\n",
       "      <td>TOO_EMGW</td>\n",
       "    </tr>\n",
       "    <tr>\n",
       "      <th>1</th>\n",
       "      <td>2</td>\n",
       "      <td>361</td>\n",
       "      <td>1</td>\n",
       "      <td>74.6</td>\n",
       "      <td>-16.70769</td>\n",
       "      <td>868.0</td>\n",
       "      <td>TOO_EMGW</td>\n",
       "    </tr>\n",
       "    <tr>\n",
       "      <th>2</th>\n",
       "      <td>2</td>\n",
       "      <td>360</td>\n",
       "      <td>1</td>\n",
       "      <td>59.0</td>\n",
       "      <td>-9.78462</td>\n",
       "      <td>600.0</td>\n",
       "      <td>TOO_EMGW</td>\n",
       "    </tr>\n",
       "    <tr>\n",
       "      <th>3</th>\n",
       "      <td>2</td>\n",
       "      <td>312</td>\n",
       "      <td>1</td>\n",
       "      <td>66.05882</td>\n",
       "      <td>-9.78462</td>\n",
       "      <td>600.0</td>\n",
       "      <td>TOO_EMGW</td>\n",
       "    </tr>\n",
       "    <tr>\n",
       "      <th>4</th>\n",
       "      <td>2</td>\n",
       "      <td>411</td>\n",
       "      <td>1</td>\n",
       "      <td>59.0</td>\n",
       "      <td>-2.86154</td>\n",
       "      <td>600.0</td>\n",
       "      <td>TOO_EMGW</td>\n",
       "    </tr>\n",
       "  </tbody>\n",
       "</table>\n",
       "</div>"
      ],
      "text/plain": [
       "  program_id field_id filter_id        ra        dec exposure_time  \\\n",
       "0          2      311         1      67.4  -16.70769        1200.0   \n",
       "1          2      361         1      74.6  -16.70769         868.0   \n",
       "2          2      360         1      59.0   -9.78462         600.0   \n",
       "3          2      312         1  66.05882   -9.78462         600.0   \n",
       "4          2      411         1      59.0   -2.86154         600.0   \n",
       "\n",
       "  subprogram_name  \n",
       "0        TOO_EMGW  \n",
       "1        TOO_EMGW  \n",
       "2        TOO_EMGW  \n",
       "3        TOO_EMGW  \n",
       "4        TOO_EMGW  "
      ]
     },
     "execution_count": 11,
     "metadata": {},
     "output_type": "execute_result"
    }
   ],
   "source": [
    "df"
   ]
  },
  {
   "cell_type": "code",
   "execution_count": null,
   "metadata": {},
   "outputs": [],
   "source": []
  }
 ],
 "metadata": {
  "kernelspec": {
   "display_name": "Python 2",
   "language": "python",
   "name": "python2"
  },
  "language_info": {
   "codemirror_mode": {
    "name": "ipython",
    "version": 2
   },
   "file_extension": ".py",
   "mimetype": "text/x-python",
   "name": "python",
   "nbconvert_exporter": "python",
   "pygments_lexer": "ipython2",
   "version": "2.7.14"
  }
 },
 "nbformat": 4,
 "nbformat_minor": 2
}
